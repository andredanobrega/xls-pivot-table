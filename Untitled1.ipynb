{
 "cells": [
  {
   "cell_type": "code",
   "execution_count": 1,
   "metadata": {},
   "outputs": [],
   "source": [
    "from data_engineering_test import PivotTableParser\n",
    "import yaml\n",
    "with open('catalog.yaml', 'r', encoding = 'UTF-8') as file:\n",
    "    catalog = yaml.safe_load(file)\n",
    "parser = PivotTableParser(catalog)"
   ]
  },
  {
   "cell_type": "code",
   "execution_count": 13,
   "metadata": {},
   "outputs": [
    {
     "name": "stdout",
     "output_type": "stream",
     "text": [
      "<Element '{http://schemas.openxmlformats.org/spreadsheetml/2006/main}pivotTableDefinition' at 0x7f2833f206d8>\n",
      "None\n"
     ]
    }
   ],
   "source": [
    "import zipfile\n",
    "import xml.etree.ElementTree as ET\n",
    "import pandas as pd\n",
    "from io import StringIO\n",
    "\n",
    "# Replace 'your_excel_file.xlsx' with the actual filename\n",
    "excel_file = 'files_xlsx/vendas-combustiveis-m3.xlsx'\n",
    "\n",
    "# Replace 'desired_pivot_table_name' with the name of the pivot table you're looking for\n",
    "desired_pivot_table_name = 'Tabela dinâmica1'  # Change this to your desired name\n",
    "\n",
    "# Create a ZipFile object and extract the contents\n",
    "with zipfile.ZipFile(excel_file, 'r') as zip_ref:\n",
    "    # Iterate through the contents of the ZIP archive\n",
    "    for file_name in zip_ref.namelist():\n",
    "        if 'pivotTables' in file_name:\n",
    "            with zip_ref.open(file_name) as xml_file:\n",
    "                pivot_table_xml_data = xml_file.read()\n",
    "                # Check if the pivot table name exists in the XML data\n",
    "                if desired_pivot_table_name in pivot_table_xml_data.decode('utf-8'):\n",
    "                    # Parse the XML data\n",
    "                    root = ET.fromstring(pivot_table_xml_data)\n",
    "                    print(root)\n",
    "                    # Find the pivot table data by tag name (adjust as needed)\n",
    "                    pivot_table_data = root.find('.//{http://schemas.openxmlformats.org/spreadsheetml/2006/main}pivotTableDefinition')\n",
    "                    print(pivot_table_data)\n",
    "                    if pivot_table_data is not None:\n",
    "                        # Extract the data as a string\n",
    "                        pivot_table_data_str = ET.tostring(pivot_table_data, encoding='utf-8').decode('utf-8')\n",
    "                        # Create a pandas DataFrame from the XML string\n",
    "                        df = pd.read_csv(StringIO(pivot_table_data_str), delimiter=',')\n",
    "                        # Now, 'df' contains the pivot table data as a DataFrame\n",
    "                        print(df)\n",
    "\n"
   ]
  }
 ],
 "metadata": {
  "kernelspec": {
   "display_name": "Python 3",
   "language": "python",
   "name": "python3"
  },
  "language_info": {
   "codemirror_mode": {
    "name": "ipython",
    "version": 3
   },
   "file_extension": ".py",
   "mimetype": "text/x-python",
   "name": "python",
   "nbconvert_exporter": "python",
   "pygments_lexer": "ipython3",
   "version": "3.7.3"
  }
 },
 "nbformat": 4,
 "nbformat_minor": 4
}
