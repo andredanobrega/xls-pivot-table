{
 "cells": [
  {
   "cell_type": "code",
   "execution_count": 9,
   "metadata": {},
   "outputs": [],
   "source": [
    "import subprocess\n",
    "import os\n",
    "def convert_xls_to_xlsx(file_path, output_folder = '/home/coder/project/xls-pivot-table/files_xlsx'):\n",
    "    output_folder = os.path.abspath(output_folder)\n",
    "    command = f'!sudo soffice --headless --convert-to xlsx --outdir {output_folder} {file_path}'\n",
    "    subprocess.run(command, shell=True)\n",
    "\n",
    "# Usage\n",
    "convert_xls_to_xlsx(\"/home/coder/project/xls-pivot-table/files/vendas-combustiveis-m3.xls\")"
   ]
  },
  {
   "cell_type": "code",
   "execution_count": 10,
   "metadata": {},
   "outputs": [
    {
     "name": "stdout",
     "output_type": "stream",
     "text": [
      "/bin/bash: soffice: command not found\n"
     ]
    }
   ],
   "source": [
    "!soffice --headless --convert-to xlsx files/vendas-combustiveis-m3.xls"
   ]
  }
 ],
 "metadata": {
  "kernelspec": {
   "display_name": "Python 3",
   "language": "python",
   "name": "python3"
  },
  "language_info": {
   "codemirror_mode": {
    "name": "ipython",
    "version": 3
   },
   "file_extension": ".py",
   "mimetype": "text/x-python",
   "name": "python",
   "nbconvert_exporter": "python",
   "pygments_lexer": "ipython3",
   "version": "3.7.3"
  }
 },
 "nbformat": 4,
 "nbformat_minor": 4
}
